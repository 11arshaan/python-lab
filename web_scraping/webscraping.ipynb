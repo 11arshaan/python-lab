{
 "cells": [
  {
   "cell_type": "code",
   "execution_count": 3,
   "id": "ca554654-8961-4092-89f5-06f44c7d2b73",
   "metadata": {},
   "outputs": [
    {
     "name": "stdout",
     "output_type": "stream",
     "text": [
      "<h1> woo</h1>\n",
      "<h1 class=\"special\" id=\"yee\"> yoo </h1>\n",
      "<h1 class=\"special\" id=\"yee\"> yoo </h1>\n",
      "[<h1> woo</h1>, <h1> hoo </h1>, <h1 class=\"special\" id=\"yee\"> yoo </h1>]\n"
     ]
    }
   ],
   "source": [
    "from bs4 import BeautifulSoup\n",
    "import lxml\n",
    "import requests\n",
    "\n",
    "##############\n",
    "# from file\n",
    "##############\n",
    "\n",
    "with open(\"./website.html\") as file:\n",
    "    contents = file.read()\n",
    "\n",
    "soup = BeautifulSoup(contents, \"lxml\")\n",
    "\n",
    "first_heading = soup.find(name=\"h1\")\n",
    "specific_heading_class = soup.find(name=\"h1\", class_=\"special\")\n",
    "specific_heading_id = soup.find(name=\"h1\", id=\"yee\")\n",
    "all_headings = soup.find_all(name=\"h1\")\n",
    "\n",
    "print(first_heading)\n",
    "print(specific_heading_class)\n",
    "print(specific_heading_id)\n",
    "print(all_headings)\n",
    "\n",
    "\n",
    "\n",
    "##############\n",
    "# from website\n",
    "##############\n",
    "# response = requests.get(\"https://news.ycombinator.com/\")\n",
    "# webpage = response.text\n",
    "\n",
    "# soup = BeautifulSoup(webpage, \"html.parser\")\n",
    "# print(soup.title)\n"
   ]
  },
  {
   "cell_type": "code",
   "execution_count": null,
   "id": "9dba963d-4cda-44f6-bcd6-b2a3848708cf",
   "metadata": {},
   "outputs": [],
   "source": []
  }
 ],
 "metadata": {
  "kernelspec": {
   "display_name": "Python 3 (ipykernel)",
   "language": "python",
   "name": "python3"
  },
  "language_info": {
   "codemirror_mode": {
    "name": "ipython",
    "version": 3
   },
   "file_extension": ".py",
   "mimetype": "text/x-python",
   "name": "python",
   "nbconvert_exporter": "python",
   "pygments_lexer": "ipython3",
   "version": "3.11.3"
  }
 },
 "nbformat": 4,
 "nbformat_minor": 5
}
