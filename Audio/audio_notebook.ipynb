{
 "cells": [
  {
   "cell_type": "code",
   "execution_count": null,
   "id": "6fd51818-2796-41d1-a557-e8cbee05af01",
   "metadata": {},
   "outputs": [],
   "source": [
    "import os\n",
    "import numpy as np\n",
    "from scipy.io.wavfile import read\n",
    "import matplotlib.pyplot as plt\n",
    "\n",
    "\n",
    "sample_rate, amplitude = read('../assets/audio/Fae Preview.mp3')\n",
    "\n",
    "left_channel = amplitude[:, 0]\n",
    "right_channel = amplitude[:, 1]\n",
    "\n",
    "mean_left = np.mean(left_channel)\n",
    "mean_right = np.mean(right_channel)\n",
    "\n",
    "length = len(left_channel)/48000\n",
    "\n",
    "plt.plot(left_channel)\n",
    "# plt.plot(right_channel)\n",
    "plt.show()\n",
    "\n"
   ]
  }
 ],
 "metadata": {
  "kernelspec": {
   "display_name": "Python 3 (ipykernel)",
   "language": "python",
   "name": "python3"
  },
  "language_info": {
   "codemirror_mode": {
    "name": "ipython",
    "version": 3
   },
   "file_extension": ".py",
   "mimetype": "text/x-python",
   "name": "python",
   "nbconvert_exporter": "python",
   "pygments_lexer": "ipython3",
   "version": "3.11.3"
  }
 },
 "nbformat": 4,
 "nbformat_minor": 5
}
