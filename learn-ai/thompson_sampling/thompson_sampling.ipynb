{
 "cells": [
  {
   "cell_type": "markdown",
   "metadata": {},
   "source": [
    "### Thompson Sampling Ad Strategy"
   ]
  },
  {
   "cell_type": "markdown",
   "metadata": {},
   "source": [
    "##### Create Dataset"
   ]
  },
  {
   "cell_type": "code",
   "execution_count": 1,
   "metadata": {},
   "outputs": [
    {
     "name": "stdout",
     "output_type": "stream",
     "text": [
      "[[0. 0. 0. 0. 0.]\n",
      " [0. 0. 0. 0. 0.]\n",
      " [0. 0. 0. 0. 0.]\n",
      " ...\n",
      " [0. 0. 1. 0. 0.]\n",
      " [0. 0. 0. 0. 0.]\n",
      " [0. 0. 1. 0. 0.]]\n"
     ]
    }
   ],
   "source": [
    "import numpy as np\n",
    "\n",
    "# Setting conversion rates and the number of samples\n",
    "conversionRates = [0.15, 0.04, 0.13, 0.11, 0.05]\n",
    "N = 10000\n",
    "d = len(conversionRates)\n",
    "\n",
    "# Creating the dataset\n",
    "X = np.zeros((N, d))\n",
    "for i in range(N):\n",
    "    for j in range(d):\n",
    "        if np.random.rand() < conversionRates[j]:\n",
    "            X[i][j] = 1\n",
    "\n",
    "\n",
    "print(X)"
   ]
  },
  {
   "cell_type": "markdown",
   "metadata": {},
   "source": [
    "##### Count Wins/Losses"
   ]
  },
  {
   "cell_type": "code",
   "execution_count": 2,
   "metadata": {},
   "outputs": [],
   "source": [
    "# Making arrays to count our losses and wins per machine\n",
    "nPosReward = np.zeros(d)\n",
    "nNegReward = np.zeros(d)"
   ]
  },
  {
   "cell_type": "markdown",
   "metadata": {},
   "source": [
    "##### Use Beta Distribution"
   ]
  },
  {
   "cell_type": "code",
   "execution_count": 3,
   "metadata": {},
   "outputs": [],
   "source": [
    "# Taking our best slot machine through beta distribution and updating its losses and wins\n",
    "for i in range(N):\n",
    "    selected = 0\n",
    "    maxRandom = 0\n",
    "    for j in range(d):\n",
    "        randomBeta = np.random.beta(nPosReward[j] + 1, nNegReward[j] + 1)\n",
    "        if randomBeta > maxRandom:\n",
    "            maxRandom = randomBeta\n",
    "            selected = j\n",
    "    if X[i][selected] == 1:\n",
    "        nPosReward[selected] += 1\n",
    "    else:\n",
    "        nNegReward[selected] += 1"
   ]
  },
  {
   "cell_type": "markdown",
   "metadata": {},
   "source": [
    "##### Guess best Machine"
   ]
  },
  {
   "cell_type": "code",
   "execution_count": 4,
   "metadata": {},
   "outputs": [
    {
     "name": "stdout",
     "output_type": "stream",
     "text": [
      "Machine number 1 was selected 8373.0 times\n",
      "Machine number 2 was selected 102.0 times\n",
      "Machine number 3 was selected 854.0 times\n",
      "Machine number 4 was selected 544.0 times\n",
      "Machine number 5 was selected 127.0 times\n",
      "Conclusion: Best machine is machine number 1\n"
     ]
    }
   ],
   "source": [
    "# Showing which slot machine is considered the best\n",
    "nSelected = nPosReward + nNegReward\n",
    "for i in range(d):\n",
    "    print('Machine number ' + str(i + 1) + ' was selected ' + str(nSelected[i]) + ' times')\n",
    "print('Conclusion: Best machine is machine number ' + str(np.argmax(nSelected) + 1))\n"
   ]
  }
 ],
 "metadata": {
  "kernelspec": {
   "display_name": "Python 3 (ipykernel)",
   "language": "python",
   "name": "python3"
  },
  "language_info": {
   "codemirror_mode": {
    "name": "ipython",
    "version": 3
   },
   "file_extension": ".py",
   "mimetype": "text/x-python",
   "name": "python",
   "nbconvert_exporter": "python",
   "pygments_lexer": "ipython3",
   "version": "3.10.6"
  }
 },
 "nbformat": 4,
 "nbformat_minor": 4
}
