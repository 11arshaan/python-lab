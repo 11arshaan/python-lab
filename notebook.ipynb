{
 "cells": [
  {
   "cell_type": "markdown",
   "id": "a693ee7a-9a0b-4356-9b11-12dcb950102e",
   "metadata": {},
   "source": [
    "# Requests"
   ]
  },
  {
   "cell_type": "code",
   "execution_count": 8,
   "id": "69a2cc80-63d9-4fde-839f-a5239c65581d",
   "metadata": {},
   "outputs": [
    {
     "name": "stdout",
     "output_type": "stream",
     "text": [
      "{'title': 'woo', 'body': 'hoo', 'userID': '1', 'id': 101}\n"
     ]
    }
   ],
   "source": [
    "import requests\n",
    "data = {\n",
    "    'title': 'woo',\n",
    "    'body': 'hoo',\n",
    "    'userID': 1\n",
    "}\n",
    "r = requests.post(\"https://jsonplaceholder.typicode.com/posts\", data)\n",
    "r = r.json()\n",
    "print(r)\n",
    "\n",
    "\n",
    "\n"
   ]
  },
  {
   "cell_type": "code",
   "execution_count": null,
   "id": "d97aa045-c4d3-4641-9263-663dc0031bc3",
   "metadata": {},
   "outputs": [],
   "source": []
  }
 ],
 "metadata": {
  "kernelspec": {
   "display_name": "Python 3 (ipykernel)",
   "language": "python",
   "name": "python3"
  },
  "language_info": {
   "codemirror_mode": {
    "name": "ipython",
    "version": 3
   },
   "file_extension": ".py",
   "mimetype": "text/x-python",
   "name": "python",
   "nbconvert_exporter": "python",
   "pygments_lexer": "ipython3",
   "version": "3.11.5"
  }
 },
 "nbformat": 4,
 "nbformat_minor": 5
}
