{
 "cells": [
  {
   "cell_type": "code",
   "execution_count": null,
   "metadata": {},
   "outputs": [],
   "source": [
    "print(\"woo\")"
   ]
  },
  {
   "cell_type": "markdown",
   "metadata": {},
   "source": [
    "### To Do\n",
    "\n",
    "1. plot a visualization of transposing a 2d array"
   ]
  },
  {
   "cell_type": "code",
   "execution_count": null,
   "metadata": {},
   "outputs": [],
   "source": [
    "import matplotlib.pyplot as plt\n",
    "import numpy as np\n",
    "\n",
    "x = np.linspace(0, 2 * np.pi, 200)\n",
    "y = np.sin(x)\n",
    "\n",
    "fig, ax = plt.subplots()\n",
    "ax.plot(x, y)\n",
    "plt.show()"
   ]
  },
  {
   "cell_type": "code",
   "execution_count": 18,
   "metadata": {},
   "outputs": [
    {
     "name": "stdout",
     "output_type": "stream",
     "text": [
      "[ 0  1  2  3  4  5  6  7  8  9 10 11 12 13 14]\n",
      "int32\n",
      "(array([0.        , 0.05263158, 0.10526316, 0.15789474, 0.21052632,\n",
      "       0.26315789, 0.31578947, 0.36842105, 0.42105263, 0.47368421,\n",
      "       0.52631579, 0.57894737, 0.63157895, 0.68421053, 0.73684211,\n",
      "       0.78947368, 0.84210526, 0.89473684, 0.94736842, 1.        ]), 0.05263157894736842)\n",
      "[5.00771161 5.57704493 4.63828994 6.29484261 5.94703805 5.60237151\n",
      " 4.30674104 5.29633878 5.00972898 4.07292915 5.83899076 3.40644273\n",
      " 6.09861284 4.60310795 5.80678244 4.31632276 4.12741445 4.49992806\n",
      " 5.28881337 5.81430295 4.00964711 5.80010442 6.53469911 5.60956652\n",
      " 4.04498201 6.45898971 5.47032863 4.97522661 3.555147   3.67809227\n",
      " 3.44101203 6.12397335 5.68829337 4.53591571 4.48353699 3.70290877\n",
      " 4.26677629 3.02183987 4.90924904 5.96101008 4.29268911 6.63895969\n",
      " 5.15594511 4.6771945  4.94463012 3.98584483 4.0366957  5.19467207\n",
      " 3.08872885 6.2527085 ]\n",
      "[4.63828994 5.94703805 4.30674104 5.00972898]\n"
     ]
    }
   ],
   "source": [
    "import numpy as np\n",
    "a = np.arange(15) \n",
    "print(a)\n",
    "b = np.array(a)\n",
    "print(b.dtype)\n",
    "\n",
    "print(np.linspace(0, 1, 20, retstep=True))\n",
    "\n",
    "rng = np.random.default_rng()\n",
    "random_nums = rng.normal(5, 1, 50)\n",
    "print(random_nums)\n",
    "\n",
    "np.floor()\n",
    "\n"
   ]
  },
  {
   "cell_type": "code",
   "execution_count": null,
   "metadata": {},
   "outputs": [],
   "source": []
  }
 ],
 "metadata": {
  "kernelspec": {
   "display_name": ".venv",
   "language": "python",
   "name": "python3"
  },
  "language_info": {
   "codemirror_mode": {
    "name": "ipython",
    "version": 3
   },
   "file_extension": ".py",
   "mimetype": "text/x-python",
   "name": "python",
   "nbconvert_exporter": "python",
   "pygments_lexer": "ipython3",
   "version": "3.11.5"
  },
  "orig_nbformat": 4
 },
 "nbformat": 4,
 "nbformat_minor": 2
}
